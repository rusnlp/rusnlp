{
 "cells": [
  {
   "cell_type": "code",
   "execution_count": 1,
   "metadata": {},
   "outputs": [],
   "source": [
    "import json"
   ]
  },
  {
   "cell_type": "code",
   "execution_count": 14,
   "metadata": {},
   "outputs": [],
   "source": [
    "with open(\"metadata_2021-04-05.jsonlines\") as f, open(\"inclusiveness_2020.tsv\", 'w') as w:\n",
    "    for line in f:\n",
    "        line = json.loads(line)\n",
    "        if line['year'] == '2020' and line['conference']!='AINL':\n",
    "            for author in line['article']['authors']:\n",
    "                w.write(f\"\\t\\t{line['year']}\\t{line['conference']}\\t{author['name']}\\t{author['affiliations'][0]['affiliation_name']}\\n\")\n",
    "                break"
   ]
  },
  {
   "cell_type": "code",
   "execution_count": 15,
   "metadata": {},
   "outputs": [],
   "source": [
    "import os"
   ]
  },
  {
   "cell_type": "code",
   "execution_count": 24,
   "metadata": {},
   "outputs": [],
   "source": [
    "conferences = ['AIST', 'Dialogue']\n",
    "\n",
    "with open(\"inclusiveness_2021.tsv\", 'w') as w:\n",
    "    for c in conferences:\n",
    "        for x, y, z in os.walk(f\"./{c}/2021/\"):\n",
    "            for i in z:\n",
    "                if i.endswith(\".txt\"):\n",
    "                    with open(os.path.join(x, i)) as f:\n",
    "                        gender = next(f).strip()\n",
    "                        location = next(f).strip()\n",
    "                        w.write(f\"{gender}\\t{location}\\t2021\\t{c}\\n\")"
   ]
  },
  {
   "cell_type": "code",
   "execution_count": null,
   "metadata": {},
   "outputs": [],
   "source": []
  }
 ],
 "metadata": {
  "kernelspec": {
   "display_name": "Python 3",
   "language": "python",
   "name": "python3"
  },
  "language_info": {
   "codemirror_mode": {
    "name": "ipython",
    "version": 3
   },
   "file_extension": ".py",
   "mimetype": "text/x-python",
   "name": "python",
   "nbconvert_exporter": "python",
   "pygments_lexer": "ipython3",
   "version": "3.8.3"
  }
 },
 "nbformat": 4,
 "nbformat_minor": 4
}
